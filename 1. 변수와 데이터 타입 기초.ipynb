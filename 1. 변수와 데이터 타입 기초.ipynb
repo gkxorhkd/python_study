{
 "cells": [
  {
   "cell_type": "markdown",
   "id": "bbbf1ffa-1568-4131-aad9-1446ffd20091",
   "metadata": {},
   "source": [
    "# 1. 변수와 데이터 타입 기초\n",
    "## 1.1. 변수 선언과 값 할당\n",
    "변수는 데이터를 저장하는 공간을 나타냅니다. Python에서 변수는 특정 값에 이름을 붙여서 사용합니다."
   ]
  },
  {
   "cell_type": "code",
   "execution_count": 2,
   "id": "97a1a852-193b-48d5-9f23-f4b83f7b5d5d",
   "metadata": {},
   "outputs": [],
   "source": [
    "# 변수 선언과 값 할당\n",
    "x = 10           # 정수형\n",
    "name = \"Alice\"    # 문자열\n",
    "height = 1.75     # 실수형\n",
    "is_student = True # 불리언"
   ]
  },
  {
   "cell_type": "markdown",
   "id": "1eccd723-2d09-478c-9e20-da7c4c30a35b",
   "metadata": {},
   "source": [
    "## 1.2. 데이터 타입 확인하기\n",
    "Python에서는 type() 함수를 사용하여 변수의 데이터 타입을 확인할 수 있습니다."
   ]
  },
  {
   "cell_type": "code",
   "execution_count": 5,
   "id": "51a34529-1d84-48a1-b7e3-6c77b68c1c82",
   "metadata": {
    "collapsed": true,
    "jupyter": {
     "outputs_hidden": true
    }
   },
   "outputs": [
    {
     "name": "stdout",
     "output_type": "stream",
     "text": [
      "x =  10\n",
      "name =  Alice\n",
      "height =  1.75\n",
      "is_student =  True\n"
     ]
    }
   ],
   "source": [
    "print('x = ', x)      \n",
    "print('name = ', name)     \n",
    "print('height = ', height)   \n",
    "print('is_student = ', is_student)"
   ]
  },
  {
   "cell_type": "code",
   "execution_count": 3,
   "id": "2afebdd1-c100-4833-8854-e353ddb7582b",
   "metadata": {},
   "outputs": [
    {
     "name": "stdout",
     "output_type": "stream",
     "text": [
      "<class 'int'>\n",
      "<class 'str'>\n",
      "<class 'float'>\n",
      "<class 'bool'>\n"
     ]
    }
   ],
   "source": [
    "print(type(x))        # <class 'int'>\n",
    "print(type(name))     # <class 'str'>\n",
    "print(type(height))   # <class 'float'>\n",
    "print(type(is_student)) # <class 'bool'>"
   ]
  },
  {
   "cell_type": "markdown",
   "id": "bf8f53a6-da13-4927-a2a6-801f6837d378",
   "metadata": {},
   "source": [
    "## 1.3. 데이터 타입 변환하기\n",
    "Python에서는 데이터를 다른 타입으로 변환할 수 있습니다. 예를 들어, 정수를 실수로 변환하거나 문자열을 숫자로 변환할 수 있습니다."
   ]
  },
  {
   "cell_type": "code",
   "execution_count": 11,
   "id": "a1dcb37f-7582-42c9-9956-c027d5f53a83",
   "metadata": {},
   "outputs": [
    {
     "name": "stdout",
     "output_type": "stream",
     "text": [
      "100\n",
      "1.75\n"
     ]
    }
   ],
   "source": [
    "# 데이터 타입 변환 예제\n",
    "num_str = \"100\"     # 문자열\n",
    "num_int = int(num_str)  # 문자열을 정수로 변환\n",
    "print(num_int)       # 100\n",
    "\n",
    "height_str = str(height)  # 실수를 문자열로 변환\n",
    "print(height_str)   # '1.75'\n"
   ]
  },
  {
   "cell_type": "markdown",
   "id": "d01efb18-7116-4a4b-9f70-e26803ea2384",
   "metadata": {},
   "source": [
    "# 2. 다양한 데이터 타입 실습\n",
    "## 2.1. 정수 (int)\n",
    "정수는 소수점이 없는 숫자를 나타냅니다."
   ]
  },
  {
   "cell_type": "code",
   "execution_count": 12,
   "id": "28385de8-73b0-4e89-a2d4-ad2972e47fdd",
   "metadata": {},
   "outputs": [
    {
     "name": "stdout",
     "output_type": "stream",
     "text": [
      "합: 43\n"
     ]
    }
   ],
   "source": [
    "# 정수 예제\n",
    "num1 = 50\n",
    "num2 = -7\n",
    "sum_result = num1 + num2\n",
    "print(\"합:\", sum_result)  # 43"
   ]
  },
  {
   "cell_type": "markdown",
   "id": "a4b9a1bd-8d0f-41ba-b319-7afc53e39b1d",
   "metadata": {},
   "source": [
    "## 2.2. 실수 (float)\n",
    "실수는 소수점이 있는 숫자를 나타냅니다."
   ]
  },
  {
   "cell_type": "code",
   "execution_count": 10,
   "id": "99a4113a-ce6d-49b2-b4a2-8578199af26f",
   "metadata": {},
   "outputs": [
    {
     "name": "stdout",
     "output_type": "stream",
     "text": [
      "BMI: 23.020408163265305\n"
     ]
    }
   ],
   "source": [
    "# 실수 예제\n",
    "height = 1.75\n",
    "weight = 70.5\n",
    "bmi = weight / (height ** 2)  # BMI 계산\n",
    "print(\"BMI:\", bmi)  # 22.98 (대략적인 결과)"
   ]
  },
  {
   "cell_type": "markdown",
   "id": "321e3590-adea-4f08-b402-9c9d2dc75e9a",
   "metadata": {},
   "source": [
    "## 2.3. 문자열 (str)\n",
    "#문자열은 작은따옴표(') 또는 큰따옴표(\")로 감싸서 만들 수 있습니다."
   ]
  },
  {
   "cell_type": "code",
   "execution_count": 14,
   "id": "035f8466-f501-4553-afc1-d8d17de94d94",
   "metadata": {},
   "outputs": [
    {
     "name": "stdout",
     "output_type": "stream",
     "text": [
      "Hello, World!\n",
      "Hello Alice!\n"
     ]
    }
   ],
   "source": [
    "# 문자열 예제\n",
    "greeting = \"Hello, World!\"\n",
    "print(greeting) # Hello, world!\n",
    "\n",
    "# 문자열 연결\n",
    "full_greeting = \"Hello\" + \" \"+\"Alice!\"\n",
    "print(full_greeting) # Heloo Ailce!"
   ]
  },
  {
   "cell_type": "markdown",
   "id": "6fd1395d-48f0-492a-8c18-79b56df0f39e",
   "metadata": {},
   "source": [
    "## 2.4. 불리언 (bool)\n",
    "\n",
    " 불리언은 Ture 또는 False 값만 가질 수 있는 데이터 타입입니다."
   ]
  },
  {
   "cell_type": "code",
   "execution_count": 20,
   "id": "cfb70e78-d8cd-41e5-9b2e-910eee6ab328",
   "metadata": {},
   "outputs": [
    {
     "name": "stdout",
     "output_type": "stream",
     "text": [
      "비가 오나요? True\n",
      "맑은 날인가요? False\n"
     ]
    }
   ],
   "source": [
    "# 불리언 예제\n",
    "is_raining = True\n",
    "is_sunny = False\n",
    "print(\"비가 오나요?\", is_raining)  # True\n",
    "print(\"맑은 날인가요?\", is_sunny)  # False"
   ]
  },
  {
   "cell_type": "code",
   "execution_count": 15,
   "id": "d5c60aae-d4b1-4bc1-9813-8afd92de731e",
   "metadata": {},
   "outputs": [
    {
     "name": "stdout",
     "output_type": "stream",
     "text": [
      "False\n"
     ]
    }
   ],
   "source": [
    "b_txt = False\n",
    "print(b_txt)"
   ]
  },
  {
   "cell_type": "code",
   "execution_count": 21,
   "id": "3397e3bb-2ae9-4dbe-829d-b0e7bec93671",
   "metadata": {},
   "outputs": [
    {
     "name": "stdout",
     "output_type": "stream",
     "text": [
      "참\n"
     ]
    }
   ],
   "source": [
    "if 0 == False:\n",
    "    print('참')\n",
    "else:\n",
    "    print('거짓')\n"
   ]
  },
  {
   "cell_type": "markdown",
   "id": "63427bf9-6eb4-49c3-97b7-b6fc55925a41",
   "metadata": {},
   "source": [
    "# 3. 데이터 타입 연산\n",
    "## 3.1. 정수와 실수 연산\n",
    "정수와 실수는 서로 연산이 가능하며, 실수 결과를 반환합니다."
   ]
  },
  {
   "cell_type": "code",
   "execution_count": 30,
   "id": "1138da2d-006d-4572-9b81-7eec8d0475a9",
   "metadata": {},
   "outputs": [],
   "source": [
    "# 정수와 실수 연산\n",
    "num1 = 10\n",
    "num2 = 3"
   ]
  },
  {
   "cell_type": "code",
   "execution_count": 27,
   "id": "512ba685-2f5a-4b52-9e53-6367ac17ddbe",
   "metadata": {},
   "outputs": [
    {
     "name": "stdout",
     "output_type": "stream",
     "text": [
      "덧셈 결과: 13\n"
     ]
    }
   ],
   "source": [
    "# 덧셈\n",
    "sum_result = num1 + num2  # 10 + 3 = 13\n",
    "print(\"덧셈 결과:\", sum_result)"
   ]
  },
  {
   "cell_type": "code",
   "execution_count": 28,
   "id": "59d1b8ab-3021-496f-9aa5-fd5ed4915b74",
   "metadata": {},
   "outputs": [
    {
     "name": "stdout",
     "output_type": "stream",
     "text": [
      "나눗셈 결과: 3.3333333333333335\n"
     ]
    }
   ],
   "source": [
    "# 나눗셈 (결과는 실수형)\n",
    "division_result = num1 / num2  # 10 / 3 = 3.333...\n",
    "print(\"나눗셈 결과:\", division_result)"
   ]
  },
  {
   "cell_type": "code",
   "execution_count": 29,
   "id": "76b55772-ff21-4bdc-9ac7-37e25aa944c6",
   "metadata": {},
   "outputs": [
    {
     "name": "stdout",
     "output_type": "stream",
     "text": [
      "나머지: 1\n"
     ]
    }
   ],
   "source": [
    "# 나머지 구하기 (정수형)\n",
    "mod_result = num1 % num2  # 10 % 3 = 1\n",
    "print(\"나머지:\", mod_result)"
   ]
  },
  {
   "cell_type": "markdown",
   "id": "496788ce-dff2-4d4d-98b0-10cab32f7efa",
   "metadata": {},
   "source": [
    "# 문제 1: 변수 선언과 연산\n",
    "정수 변수 a = 15, b = 4를 선언하고, 두 변수의 합, 차, 곱, 나눗셈 결과를 가각 출력하는 프로그램을 작성하세요"
   ]
  },
  {
   "cell_type": "code",
   "execution_count": 62,
   "id": "fdcd0d9b-22a3-4067-b67c-98870596dab0",
   "metadata": {},
   "outputs": [
    {
     "name": "stdout",
     "output_type": "stream",
     "text": [
      "a + b =  19\n",
      "a - b =  11\n",
      "a * b =  60\n",
      "a % b =  3\n",
      "나머지값 =  3\n"
     ]
    }
   ],
   "source": [
    "a = 15\n",
    "b = 4\n",
    "\n",
    "#덧셈 결과\n",
    "\n",
    "c = a + b\n",
    "print('a + b = ', c)\n",
    "\n",
    "# 뺄셈 결과\n",
    "\n",
    "c = a - b\n",
    "print('a - b = ', c)\n",
    "\n",
    "# 곱하기 결과\n",
    "\n",
    "c = a * b\n",
    "print('a * b = ', c)\n",
    "\n",
    "# 나눗셈 결과\n",
    "\n",
    "c = a % b\n",
    "print('a % b = ', c)\n",
    "\n",
    "# 나머지값 결과\n",
    "\n",
    "c = a % b\n",
    "print('나머지값 = ', c)"
   ]
  },
  {
   "cell_type": "code",
   "execution_count": null,
   "id": "05a9613f-f562-4291-8a91-bcc3960d5fef",
   "metadata": {},
   "outputs": [],
   "source": []
  },
  {
   "cell_type": "markdown",
   "id": "561bbc35-8979-4b0d-9cd3-ade52e530bd6",
   "metadata": {},
   "source": [
    "# 문제 2: 문자열 다루기\n",
    "사용자의 이름을 변수에 입력하고, 그 이름을 \"Hello, [이름]!\" 형식으로 출력하는 프로그램을 작성하세요."
   ]
  },
  {
   "cell_type": "code",
   "execution_count": 69,
   "id": "07d4dc58-cd58-4014-bbb8-6b6faf97bc7e",
   "metadata": {},
   "outputs": [
    {
     "name": "stdout",
     "output_type": "stream",
     "text": [
      "Hello, [홍길동]!\n"
     ]
    }
   ],
   "source": [
    "name = '홍길동'\n",
    "\n",
    "print('Hello, [' + name + ']!')"
   ]
  },
  {
   "cell_type": "code",
   "execution_count": 70,
   "id": "142cc8d4-ec8e-49c3-bf7e-d039361b8fa4",
   "metadata": {},
   "outputs": [
    {
     "name": "stdout",
     "output_type": "stream",
     "text": [
      "Hello, [name]!\n"
     ]
    }
   ],
   "source": [
    "print(f'Hello, [name]!')"
   ]
  },
  {
   "cell_type": "markdown",
   "id": "8d1ff6e0-f2f3-4c36-aede-2f733e541a01",
   "metadata": {},
   "source": [
    "# 문제 3: BMI 계산기\n",
    "키와 몸무게를 입력받아 BMI(체질량지수)를 계산하는 프로그램을 작성하세요.\n",
    "BMI 계산 공식: BMI = 체중(kg) / (신장(m) ** 2)"
   ]
  },
  {
   "cell_type": "code",
   "execution_count": 63,
   "id": "25617034-a12c-4ff3-bd52-62e32a2e2a04",
   "metadata": {},
   "outputs": [
    {
     "name": "stdout",
     "output_type": "stream",
     "text": [
      "BMI =  23.020408163265305\n"
     ]
    }
   ],
   "source": [
    "height = 1.75\n",
    "weight = 70.5\n",
    "\n",
    "BMI = weight / (height ** 2)\n",
    "print(\"BMI = \", bmi)"
   ]
  },
  {
   "cell_type": "code",
   "execution_count": null,
   "id": "cd3302d4-eab0-4b80-b15f-d41dacc1c1b5",
   "metadata": {},
   "outputs": [],
   "source": []
  }
 ],
 "metadata": {
  "kernelspec": {
   "display_name": "Python 3 (ipykernel)",
   "language": "python",
   "name": "python3"
  },
  "language_info": {
   "codemirror_mode": {
    "name": "ipython",
    "version": 3
   },
   "file_extension": ".py",
   "mimetype": "text/x-python",
   "name": "python",
   "nbconvert_exporter": "python",
   "pygments_lexer": "ipython3",
   "version": "3.12.8"
  }
 },
 "nbformat": 4,
 "nbformat_minor": 5
}
