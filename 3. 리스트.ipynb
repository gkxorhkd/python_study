{
 "cells": [
  {
   "cell_type": "code",
   "execution_count": 22,
   "id": "ddc3dc91-e9eb-4fa6-9357-229126097aab",
   "metadata": {},
   "outputs": [
    {
     "data": {
      "text/plain": [
       "'C:\\\\Users\\\\305'"
      ]
     },
     "execution_count": 22,
     "metadata": {},
     "output_type": "execute_result"
    }
   ],
   "source": [
    "# 프로그램 위치 찾기\n",
    "\n",
    "import os\n",
    "os. getcwd()       # get Current Work Directory"
   ]
  },
  {
   "cell_type": "code",
   "execution_count": 38,
   "id": "41d52ec4-4d24-4671-a13c-b15dbe66ebab",
   "metadata": {},
   "outputs": [
    {
     "data": {
      "text/plain": [
       "['삼성전자', 'SK하이닉스', '네이버']"
      ]
     },
     "execution_count": 38,
     "metadata": {},
     "output_type": "execute_result"
    }
   ],
   "source": [
    "company_list = ['삼성전자', 'SK하이닉스', '네이버']   # 리스트는 []\n",
    "company_list"
   ]
  },
  {
   "cell_type": "code",
   "execution_count": 8,
   "id": "5288a724-b291-4aef-84d2-29bd70bdbddd",
   "metadata": {},
   "outputs": [
    {
     "name": "stdout",
     "output_type": "stream",
     "text": [
      "['삼성전자', 'SK하이닉스', '네이버']\n"
     ]
    }
   ],
   "source": [
    "print(company_list)"
   ]
  },
  {
   "cell_type": "code",
   "execution_count": 9,
   "id": "58131f50-fcb3-4392-9764-8a510bd280cc",
   "metadata": {},
   "outputs": [
    {
     "data": {
      "text/plain": [
       "list"
      ]
     },
     "execution_count": 9,
     "metadata": {},
     "output_type": "execute_result"
    }
   ],
   "source": [
    "type(company_list)"
   ]
  },
  {
   "cell_type": "code",
   "execution_count": 13,
   "id": "3552688f-2846-4200-8401-5fc9207afd91",
   "metadata": {},
   "outputs": [
    {
     "name": "stdout",
     "output_type": "stream",
     "text": [
      "삼성전자\n",
      "SK하이닉스\n"
     ]
    },
    {
     "data": {
      "text/plain": [
       "'네이버'"
      ]
     },
     "execution_count": 13,
     "metadata": {},
     "output_type": "execute_result"
    }
   ],
   "source": [
    "print(company_list[0])    \n",
    "print(company_list[1])\n",
    "company_list[-1]"
   ]
  },
  {
   "cell_type": "code",
   "execution_count": 16,
   "id": "e8b68958-da9d-42c3-a5cf-c6f4c44499b0",
   "metadata": {},
   "outputs": [
    {
     "data": {
      "text/plain": [
       "['애플', '구글', '테슬라']"
      ]
     },
     "execution_count": 16,
     "metadata": {},
     "output_type": "execute_result"
    }
   ],
   "source": [
    "company_list[0] = '애플'\n",
    "company_list[1] = '구글'\n",
    "company_list[2] = '테슬라'\n",
    "company_list"
   ]
  },
  {
   "cell_type": "code",
   "execution_count": 19,
   "id": "9a05ab1e-9142-4994-8f02-513ab78a661d",
   "metadata": {},
   "outputs": [
    {
     "data": {
      "text/plain": [
       "['구글', '테슬라', '마이크로소프트', '마이크로소프트']"
      ]
     },
     "execution_count": 19,
     "metadata": {},
     "output_type": "execute_result"
    }
   ],
   "source": [
    "company_list.append('마이크로소프트')    # a 그리괴 tep 치면 \n",
    "company_list"
   ]
  },
  {
   "cell_type": "code",
   "execution_count": 18,
   "id": "9731fb97-642c-422c-90d7-c46b038eaf93",
   "metadata": {},
   "outputs": [
    {
     "data": {
      "text/plain": [
       "['구글', '테슬라', '마이크로소프트']"
      ]
     },
     "execution_count": 18,
     "metadata": {},
     "output_type": "execute_result"
    }
   ],
   "source": [
    "del company_list[0]        # 리스트의 0번째 요소를 삭제\n",
    "company_list"
   ]
  },
  {
   "cell_type": "code",
   "execution_count": 21,
   "id": "8e87995f-420a-4768-88d7-d9496f043eb6",
   "metadata": {},
   "outputs": [
    {
     "data": {
      "text/plain": [
       "4"
      ]
     },
     "execution_count": 21,
     "metadata": {},
     "output_type": "execute_result"
    }
   ],
   "source": [
    "len(company_list)   # 리스트 요소의 갯수"
   ]
  },
  {
   "cell_type": "code",
   "execution_count": 23,
   "id": "a2ab56cd-cffd-4c44-b698-1285f46afbb9",
   "metadata": {},
   "outputs": [
    {
     "data": {
      "text/plain": [
       "[1, 2, 3, 4, 5, 6, 7, 8, 9]"
      ]
     },
     "execution_count": 23,
     "metadata": {},
     "output_type": "execute_result"
    }
   ],
   "source": [
    "num_list = [1, 2, 3, 4, 5, 6, 7, 8, 9]\n",
    "num_list"
   ]
  },
  {
   "cell_type": "code",
   "execution_count": 24,
   "id": "4682f9c5-c73c-45eb-877d-89ff786c2ad5",
   "metadata": {},
   "outputs": [
    {
     "data": {
      "text/plain": [
       "1"
      ]
     },
     "execution_count": 24,
     "metadata": {},
     "output_type": "execute_result"
    }
   ],
   "source": [
    "num_list[0]"
   ]
  },
  {
   "cell_type": "code",
   "execution_count": 36,
   "id": "6438e194-9a70-499d-8a0e-7d30316ec535",
   "metadata": {},
   "outputs": [
    {
     "data": {
      "text/plain": [
       "[1, 2, 3, 4]"
      ]
     },
     "execution_count": 36,
     "metadata": {},
     "output_type": "execute_result"
    }
   ],
   "source": [
    "num_list[0:4]    # [0:4] 뒤에는 항상 -1 4번째에서 멈춘다."
   ]
  },
  {
   "cell_type": "code",
   "execution_count": 27,
   "id": "26f077f4-d3ca-438a-a5ec-8c545f3307b0",
   "metadata": {},
   "outputs": [
    {
     "data": {
      "text/plain": [
       "[3, 4, 5]"
      ]
     },
     "execution_count": 27,
     "metadata": {},
     "output_type": "execute_result"
    }
   ],
   "source": [
    "num_list[2:5]"
   ]
  },
  {
   "cell_type": "code",
   "execution_count": 29,
   "id": "9aff8292-c6c0-4b54-9767-22e9dd9e6b0c",
   "metadata": {},
   "outputs": [
    {
     "data": {
      "text/plain": [
       "[6, 7, 8, 9]"
      ]
     },
     "execution_count": 29,
     "metadata": {},
     "output_type": "execute_result"
    }
   ],
   "source": [
    "num_list[5:]  # 증가치가 생략(5번쨰부터~끝까지)"
   ]
  },
  {
   "cell_type": "code",
   "execution_count": 35,
   "id": "908c8a78-a1da-45d3-8c37-baa11bc4550b",
   "metadata": {},
   "outputs": [
    {
     "data": {
      "text/plain": [
       "[1, 4, 7]"
      ]
     },
     "execution_count": 35,
     "metadata": {},
     "output_type": "execute_result"
    }
   ],
   "source": [
    "num_list[::3]   # 초기:목표-1:증치치"
   ]
  },
  {
   "cell_type": "code",
   "execution_count": 33,
   "id": "9012f7d9-d9a9-4e24-af26-d1ec26d38774",
   "metadata": {},
   "outputs": [
    {
     "name": "stdout",
     "output_type": "stream",
     "text": [
      "대검을(를) 확인했습니다\n",
      "창닫기\n",
      "포션을(를) 확인했습니다\n",
      "창닫기\n",
      "마법사을(를) 확인했습니다\n",
      "창닫기\n"
     ]
    }
   ],
   "source": [
    "invertory = ['대검', '포션', '마법사']\n",
    "\n",
    "for item in invertory:\n",
    "    print(item + '을(를) 확인했습니다')\n",
    "    print('창닫기')"
   ]
  },
  {
   "cell_type": "code",
   "execution_count": 44,
   "id": "d643b30a-e0dd-4c86-9191-4bdfebcf5392",
   "metadata": {},
   "outputs": [],
   "source": [
    "game_map = [                         # 리스트 [ 리스트 [ ], [ ], [ ]        ] 있다.\n",
    "    ['대검', '포션', None],\n",
    "    [None, '보물상자', '포션'],\n",
    "    ['몬스터', None, '열쇠'],\n",
    "]\n"
   ]
  },
  {
   "cell_type": "code",
   "execution_count": 45,
   "id": "edd80bb8-e382-4c32-b366-b13a7bd5c19d",
   "metadata": {},
   "outputs": [
    {
     "name": "stdout",
     "output_type": "stream",
     "text": [
      "['대검', '포션', None]\n",
      "item  대검\n",
      "item  포션\n",
      "item  None\n",
      "[None, '보물상자', '포션']\n",
      "item  None\n",
      "item  보물상자\n",
      "item  포션\n",
      "['몬스터', None, '열쇠']\n",
      "item  몬스터\n",
      "item  None\n",
      "item  열쇠\n"
     ]
    }
   ],
   "source": [
    "for game in game_map:\n",
    "    print(game)\n",
    "    for item in game:\n",
    "        print('item ', item)"
   ]
  },
  {
   "cell_type": "code",
   "execution_count": 47,
   "id": "1019463f-23d1-4a57-84c9-e9f3e8b10db3",
   "metadata": {},
   "outputs": [
    {
     "data": {
      "text/plain": [
       "str"
      ]
     },
     "execution_count": 47,
     "metadata": {},
     "output_type": "execute_result"
    }
   ],
   "source": [
    "type(game_map[0][0])"
   ]
  },
  {
   "cell_type": "code",
   "execution_count": 50,
   "id": "048c80cb-57d7-4612-818f-dcf9793bedbf",
   "metadata": {},
   "outputs": [
    {
     "data": {
      "text/plain": [
       "'보물상자'"
      ]
     },
     "execution_count": 50,
     "metadata": {},
     "output_type": "execute_result"
    }
   ],
   "source": [
    "(game_map[1][1])      # 리스트안에서 리스트  # 주의해서 사용할것"
   ]
  },
  {
   "cell_type": "code",
   "execution_count": 83,
   "id": "883f7fd8-3aef-4662-906d-b32b86e0ac82",
   "metadata": {},
   "outputs": [
    {
     "ename": "IndentationError",
     "evalue": "unindent does not match any outer indentation level (<string>, line 9)",
     "output_type": "error",
     "traceback": [
      "\u001b[1;36m  File \u001b[1;32m<string>:9\u001b[1;36m\u001b[0m\n\u001b[1;33m    print('최고점수 : ', max_scres)\u001b[0m\n\u001b[1;37m                               ^\u001b[0m\n\u001b[1;31mIndentationError\u001b[0m\u001b[1;31m:\u001b[0m unindent does not match any outer indentation level\n"
     ]
    }
   ],
   "source": [
    "# 최고 점수 찾기\n",
    "scores = [120, 150, 180, 200, 170]\n",
    "max_score = 0\n",
    "for score in scores:\n",
    "    if score > max_score:\n",
    "         max_score = score\n",
    "\n",
    "\n",
    " print('최고점수 : ', max_scres)\n"
   ]
  },
  {
   "cell_type": "code",
   "execution_count": 79,
   "id": "9c2daaa6-1305-4adf-9411-6964b0ad8d9b",
   "metadata": {},
   "outputs": [
    {
     "name": "stdout",
     "output_type": "stream",
     "text": [
      "17\n"
     ]
    }
   ],
   "source": [
    "# 실습 문제 : 합계 구하기\n",
    "\n",
    "rooms = [\n",
    "    [3, 1, 2],\n",
    "    [2, 0, 1],\n",
    "    [1, 3, 4]\n",
    "]\n",
    "\n",
    "total = 0\n",
    "\n",
    "for room in rooms:\n",
    "    total = total + sum(room)\n",
    "\n",
    "print(total)"
   ]
  },
  {
   "cell_type": "code",
   "execution_count": 81,
   "id": "cbacd993-be47-4824-a679-3102e7d3ab7e",
   "metadata": {},
   "outputs": [
    {
     "name": "stdout",
     "output_type": "stream",
     "text": [
      "6\n",
      "12\n",
      "18\n",
      "21\n",
      "24\n",
      "27\n",
      "35\n",
      "43\n",
      "51\n"
     ]
    }
   ],
   "source": [
    "total = 0\n",
    "\n",
    "for room in rooms:\n",
    "    for num in room:\n",
    "        total = total + sum(room)\n",
    "        "
   ]
  },
  {
   "cell_type": "code",
   "execution_count": null,
   "id": "4332cec8-2b95-4e19-b31b-49132e0c1946",
   "metadata": {},
   "outputs": [],
   "source": []
  }
 ],
 "metadata": {
  "kernelspec": {
   "display_name": "Python 3 (ipykernel)",
   "language": "python",
   "name": "python3"
  },
  "language_info": {
   "codemirror_mode": {
    "name": "ipython",
    "version": 3
   },
   "file_extension": ".py",
   "mimetype": "text/x-python",
   "name": "python",
   "nbconvert_exporter": "python",
   "pygments_lexer": "ipython3",
   "version": "3.12.8"
  }
 },
 "nbformat": 4,
 "nbformat_minor": 5
}
