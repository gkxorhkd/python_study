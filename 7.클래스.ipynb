{
 "cells": [
  {
   "cell_type": "markdown",
   "id": "05d07389-020f-4544-9a18-1d3e23395e31",
   "metadata": {},
   "source": [
    "# 클래스는 1개 이상 함수, 변수로 정의됨, 상속 가능"
   ]
  },
  {
   "cell_type": "code",
   "execution_count": 8,
   "id": "c1bd9d10-acc6-4bf1-a9aa-e4b5ceaa3a96",
   "metadata": {},
   "outputs": [],
   "source": [
    "class cexam():                                        # 클래스는 엔진은 그래도 겉에만 바꾸면 명칭은 바뀐다.\n",
    "    def fsam(self):\n",
    "        self.text = '멤버 함수(메소드)'\n",
    "        print(self.text)"
   ]
  },
  {
   "cell_type": "code",
   "execution_count": 9,
   "id": "be559a51-bfd5-40a8-b5e9-68fac6a2437c",
   "metadata": {},
   "outputs": [],
   "source": [
    "ca = cexam()   #객체 생성"
   ]
  },
  {
   "cell_type": "code",
   "execution_count": 25,
   "id": "a4b5c8e4-5454-47d9-a8cc-610016335061",
   "metadata": {},
   "outputs": [
    {
     "name": "stdout",
     "output_type": "stream",
     "text": [
      "<__main__.cexam object at 0x000002597AB0BDA0>\n"
     ]
    }
   ],
   "source": [
    "print(ca)"
   ]
  },
  {
   "cell_type": "code",
   "execution_count": 26,
   "id": "4fdf88e9-1ecb-4f60-a688-509b08a619a2",
   "metadata": {},
   "outputs": [
    {
     "name": "stdout",
     "output_type": "stream",
     "text": [
      "멤버 함수(메소드)\n"
     ]
    }
   ],
   "source": [
    "ca.fsam()    #  생성된 객체. 멤버함수명()    - 함수를 실행."
   ]
  },
  {
   "cell_type": "code",
   "execution_count": 10,
   "id": "88edae71-c6d6-43b3-b728-7f500eb5db0b",
   "metadata": {},
   "outputs": [],
   "source": [
    "class cexam():\n",
    "    def fsama(self):\n",
    "        self.text = '멤버 함수(메소드)'\n",
    "        print(self.text)\n",
    "\n",
    "    def fsama(self, pa):\n",
    "        slef.x = pa\n",
    "        print('멤버 변수 X는 ', self.x)"
   ]
  },
  {
   "cell_type": "code",
   "execution_count": 11,
   "id": "3bdcc2d2-7b21-48f9-830d-ce7cd0cc4bde",
   "metadata": {},
   "outputs": [],
   "source": [
    "ca = cexam()   # 객체 생성"
   ]
  },
  {
   "cell_type": "code",
   "execution_count": 12,
   "id": "199e6156-6d5e-4f27-b41a-f37c699520c2",
   "metadata": {},
   "outputs": [
    {
     "ename": "TypeError",
     "evalue": "cexam.fsama() missing 1 required positional argument: 'pa'",
     "output_type": "error",
     "traceback": [
      "\u001b[1;31m---------------------------------------------------------------------------\u001b[0m",
      "\u001b[1;31mTypeError\u001b[0m                                 Traceback (most recent call last)",
      "Cell \u001b[1;32mIn[12], line 1\u001b[0m\n\u001b[1;32m----> 1\u001b[0m ca\u001b[38;5;241m.\u001b[39mfsama()\n",
      "\u001b[1;31mTypeError\u001b[0m: cexam.fsama() missing 1 required positional argument: 'pa'"
     ]
    }
   ],
   "source": [
    "ca.fsama() "
   ]
  },
  {
   "cell_type": "markdown",
   "id": "dd963996-aaee-4bb3-b13f-36cd6a97b26a",
   "metadata": {},
   "source": [
    "# 초기 메소드__INIT__"
   ]
  },
  {
   "cell_type": "code",
   "execution_count": 37,
   "id": "d98958b4-062f-4687-8348-72120c508528",
   "metadata": {},
   "outputs": [],
   "source": [
    "class cexam():\n",
    "    def __init__(self,pa):\n",
    "        self.x = pa\n",
    "        print('멤버 변수 X는 ', self.x)\n",
    "    def fsam(self):\n",
    "        self.text = '멤버 함수(메소드)'\n",
    "        print(self.text)    "
   ]
  },
  {
   "cell_type": "code",
   "execution_count": 31,
   "id": "6f0e882c-ae03-484d-9e51-c4744f9de91e",
   "metadata": {},
   "outputs": [
    {
     "name": "stdout",
     "output_type": "stream",
     "text": [
      "멤버 변수 x는  10\n"
     ]
    }
   ],
   "source": [
    "ca = cexam(10)   # 객체 생성과 동시에 10값을 __init__(pa) 에 전달함."
   ]
  },
  {
   "cell_type": "code",
   "execution_count": 32,
   "id": "e6f3a15a-8170-48fa-88a2-9ffb1eb5ef01",
   "metadata": {},
   "outputs": [
    {
     "name": "stdout",
     "output_type": "stream",
     "text": [
      "멤버 함수(메소드)\n"
     ]
    }
   ],
   "source": [
    "ca.fsam()"
   ]
  },
  {
   "cell_type": "code",
   "execution_count": 33,
   "id": "0f2e4c4f-d462-4d67-ace6-38b60ca69743",
   "metadata": {},
   "outputs": [
    {
     "data": {
      "text/plain": [
       "10"
      ]
     },
     "execution_count": 33,
     "metadata": {},
     "output_type": "execute_result"
    }
   ],
   "source": [
    "ca.x"
   ]
  },
  {
   "cell_type": "code",
   "execution_count": 34,
   "id": "9f9a1f06-565b-4a48-84ff-1f9352a1fad1",
   "metadata": {},
   "outputs": [
    {
     "name": "stdout",
     "output_type": "stream",
     "text": [
      "멤버 변수 x는  30\n"
     ]
    }
   ],
   "source": [
    "cb = cexam(30)"
   ]
  },
  {
   "cell_type": "code",
   "execution_count": 35,
   "id": "e1c83bb5-8177-4367-b6b0-c496b4939600",
   "metadata": {},
   "outputs": [
    {
     "data": {
      "text/plain": [
       "30"
      ]
     },
     "execution_count": 35,
     "metadata": {},
     "output_type": "execute_result"
    }
   ],
   "source": [
    "cb.x    # ca.x 하고는 다른 변수.(객체가 다르긴 때문에 변수가 다름.)"
   ]
  },
  {
   "cell_type": "markdown",
   "id": "078a9002-efc6-4a30-84da-2792fd1def79",
   "metadata": {},
   "source": [
    "# self의 의미"
   ]
  },
  {
   "cell_type": "code",
   "execution_count": 13,
   "id": "3f8681df-33ee-433c-9a11-12fca380678d",
   "metadata": {},
   "outputs": [],
   "source": [
    "class cexam():\n",
    "    def __init__(self, pa, pb):                               # self 붙는지 안붙는지 차이 self는 멤버의 변수\n",
    "        self.x = pa\n",
    "        y = pb                     # 일반 변수\n",
    "        print('멤버 변수 X는 ', self.x)\n",
    "        print(' 변수 Y는 ', y)\n",
    "    def fsam(self):\n",
    "        self.text = '멤버 함수(메소드)'\n",
    "        print(self.text)\n",
    "        \n",
    "    def fsamb():             #self라는 멤버 변수 없는 것.\n",
    "        print('멤버 함수 아니다.')    "
   ]
  },
  {
   "cell_type": "code",
   "execution_count": 14,
   "id": "25af3512-b07f-4c3c-8542-b1037b602cab",
   "metadata": {},
   "outputs": [
    {
     "name": "stdout",
     "output_type": "stream",
     "text": [
      "멤버 변수 X는  10\n",
      " 변수 Y는  20\n"
     ]
    }
   ],
   "source": [
    "ca = cexam(10, 20)"
   ]
  },
  {
   "cell_type": "code",
   "execution_count": 15,
   "id": "abcc98f1-a1ea-4f17-ac64-fb370a99eb5e",
   "metadata": {},
   "outputs": [
    {
     "name": "stdout",
     "output_type": "stream",
     "text": [
      "멤버 함수(메소드)\n"
     ]
    }
   ],
   "source": [
    "ca.fsam()"
   ]
  },
  {
   "cell_type": "code",
   "execution_count": 18,
   "id": "70f0e9be-126c-4b93-9a59-40c1416f4c18",
   "metadata": {
    "scrolled": true
   },
   "outputs": [
    {
     "ename": "TypeError",
     "evalue": "cexam.fsamb() takes 0 positional arguments but 1 was given",
     "output_type": "error",
     "traceback": [
      "\u001b[1;31m---------------------------------------------------------------------------\u001b[0m",
      "\u001b[1;31mTypeError\u001b[0m                                 Traceback (most recent call last)",
      "Cell \u001b[1;32mIn[18], line 1\u001b[0m\n\u001b[1;32m----> 1\u001b[0m ca\u001b[38;5;241m.\u001b[39mfsamb()\n",
      "\u001b[1;31mTypeError\u001b[0m: cexam.fsamb() takes 0 positional arguments but 1 was given"
     ]
    }
   ],
   "source": [
    "ca.fsamb()"
   ]
  },
  {
   "cell_type": "markdown",
   "id": "a3e19a95-9e81-437e-afe1-8a1db386a9aa",
   "metadata": {},
   "source": [
    "## 파이썬에서 변수와 기억장소(메모리) 할당"
   ]
  },
  {
   "cell_type": "code",
   "execution_count": 20,
   "id": "3fd07168-1cac-4e20-b6dd-583855c5e8f0",
   "metadata": {},
   "outputs": [],
   "source": [
    "class Calcurator:               # 클래스의 첫번째 단어에는 대문자를 쓰자 약속\n",
    "    def setinit(self):\n",
    "        self.result = 0\n",
    "    def adder(self,num):\n",
    "        self.result = self.result + num\n",
    "        return self.result"
   ]
  },
  {
   "cell_type": "code",
   "execution_count": 21,
   "id": "beba3624-80ee-4990-a3b6-396926ef50f9",
   "metadata": {},
   "outputs": [],
   "source": [
    "cal1 = Calcurator()"
   ]
  },
  {
   "cell_type": "code",
   "execution_count": 22,
   "id": "da27b15b-c4aa-4dc2-ad11-b37b5c6c29ae",
   "metadata": {},
   "outputs": [],
   "source": [
    "cal1.setinit()"
   ]
  },
  {
   "cell_type": "code",
   "execution_count": 23,
   "id": "809fde85-7933-4592-b76d-26510319a752",
   "metadata": {},
   "outputs": [
    {
     "name": "stdout",
     "output_type": "stream",
     "text": [
      "0\n"
     ]
    }
   ],
   "source": [
    "print(cal1.result)"
   ]
  },
  {
   "cell_type": "code",
   "execution_count": 24,
   "id": "b5999371-1046-429b-a145-8b8783685de2",
   "metadata": {},
   "outputs": [],
   "source": [
    "cal2 = Calcurator()\n",
    "cal2.setinit()"
   ]
  },
  {
   "cell_type": "code",
   "execution_count": 36,
   "id": "b487f80e-22f7-472f-8c90-fd11df57b200",
   "metadata": {},
   "outputs": [
    {
     "ename": "TypeError",
     "evalue": "Calcurator.setinit() takes 1 positional argument but 2 were given",
     "output_type": "error",
     "traceback": [
      "\u001b[1;31m---------------------------------------------------------------------------\u001b[0m",
      "\u001b[1;31mTypeError\u001b[0m                                 Traceback (most recent call last)",
      "Cell \u001b[1;32mIn[36], line 1\u001b[0m\n\u001b[1;32m----> 1\u001b[0m \u001b[38;5;28mprint\u001b[39m(cal1\u001b[38;5;241m.\u001b[39msetinit(\u001b[38;5;241m1\u001b[39m))\n\u001b[0;32m      2\u001b[0m \u001b[38;5;28mprint\u001b[39m(cal2\u001b[38;5;241m.\u001b[39msetinit(\u001b[38;5;241m2\u001b[39m))\n",
      "\u001b[1;31mTypeError\u001b[0m: Calcurator.setinit() takes 1 positional argument but 2 were given"
     ]
    }
   ],
   "source": [
    "print(cal1.setinit(1))\n",
    "print(cal2.setinit(2))"
   ]
  },
  {
   "cell_type": "code",
   "execution_count": 32,
   "id": "8226688d-63e5-461d-841b-64934ad96640",
   "metadata": {},
   "outputs": [
    {
     "name": "stdout",
     "output_type": "stream",
     "text": [
      "<bound method Calcurator.setinit of <__main__.Calcurator object at 0x0000016A03FA2480>>\n",
      "<bound method Calcurator.setinit of <__main__.Calcurator object at 0x0000016A033D4920>>\n"
     ]
    }
   ],
   "source": [
    "print(cal1.setinit)\n",
    "print(cal2.setinit)"
   ]
  },
  {
   "cell_type": "code",
   "execution_count": 30,
   "id": "3ad385b4-e95f-4c87-9363-eb4e33ff3434",
   "metadata": {},
   "outputs": [
    {
     "name": "stdout",
     "output_type": "stream",
     "text": [
      "3\n",
      "7\n"
     ]
    }
   ],
   "source": [
    "cal3 = Calcurator()\n",
    "cal3.setinit()\n",
    "print(cal3.adder(3))\n",
    "print(cal3.adder(4))"
   ]
  },
  {
   "cell_type": "markdown",
   "id": "de6b0dec-b2ad-46ba-a279-60de3085e54c",
   "metadata": {},
   "source": [
    "## __init__ 메소드 객체의 변수 값을 초기화"
   ]
  },
  {
   "cell_type": "code",
   "execution_count": 37,
   "id": "bb1a645f-bc1a-4705-aab1-1be07abbe67e",
   "metadata": {},
   "outputs": [],
   "source": [
    "class Calcurator:               \n",
    "    def __init__(self):\n",
    "        self.result = 0\n",
    "    def adder(self,num):\n",
    "        self.result = self.result + num\n",
    "        return self.result"
   ]
  },
  {
   "cell_type": "code",
   "execution_count": 39,
   "id": "9864f7fc-b8f2-4fd7-a1d8-a76f41633ab0",
   "metadata": {},
   "outputs": [
    {
     "data": {
      "text/plain": [
       "10"
      ]
     },
     "execution_count": 39,
     "metadata": {},
     "output_type": "execute_result"
    }
   ],
   "source": [
    "Cal5 = Calcurator()\n",
    "Cal5.adder(10)"
   ]
  },
  {
   "cell_type": "markdown",
   "id": "85b07ded-7ad6-40ea-b56e-601eb2a7eda1",
   "metadata": {},
   "source": [
    "## 멤버 파라미터값으로 변수 초기화"
   ]
  },
  {
   "cell_type": "code",
   "execution_count": 45,
   "id": "a47227c1-9d3e-4684-b872-b3b2baa1bbcc",
   "metadata": {},
   "outputs": [],
   "source": [
    "class Car:\n",
    "    def __init__(self, pnum, pspeed):\n",
    "        self.num = pnum\n",
    "        self.pspeed = pspeed"
   ]
  },
  {
   "cell_type": "code",
   "execution_count": 47,
   "id": "9eb654c3-c73b-4cf1-bace-a7f9af73fa3c",
   "metadata": {},
   "outputs": [],
   "source": [
    "new_car = Car(2025, 90)"
   ]
  },
  {
   "cell_type": "code",
   "execution_count": null,
   "id": "38625dba-dc0a-4580-a660-23220d9e8f9e",
   "metadata": {},
   "outputs": [],
   "source": [
    "print('차량 번호 :', new_car.num)\n",
    "print(' 속 도 는 :', new_car.speed)"
   ]
  },
  {
   "cell_type": "code",
   "execution_count": 81,
   "id": "6af7b916-5993-49f6-9fa1-a60184259788",
   "metadata": {},
   "outputs": [],
   "source": [
    "class Car:\n",
    "    def __init__(self, pnum, pspeed):\n",
    "        self.num = pnum\n",
    "        self.pspeed = pspeed\n",
    "    def fprint(self):\n",
    "        print('차량 번호 :', self.num)\n",
    "        print('속 도 는 :', self.speed)"
   ]
  },
  {
   "cell_type": "code",
   "execution_count": 59,
   "id": "7f6f3fbf-d2b5-4d9b-9655-a3ed6f1ed877",
   "metadata": {},
   "outputs": [
    {
     "name": "stdout",
     "output_type": "stream",
     "text": [
      "차량 번호 : 2025\n"
     ]
    },
    {
     "ename": "AttributeError",
     "evalue": "'Car' object has no attribute 'speed'",
     "output_type": "error",
     "traceback": [
      "\u001b[1;31m---------------------------------------------------------------------------\u001b[0m",
      "\u001b[1;31mAttributeError\u001b[0m                            Traceback (most recent call last)",
      "Cell \u001b[1;32mIn[59], line 2\u001b[0m\n\u001b[0;32m      1\u001b[0m new_car \u001b[38;5;241m=\u001b[39m Car(\u001b[38;5;241m2025\u001b[39m, \u001b[38;5;241m90\u001b[39m)\n\u001b[1;32m----> 2\u001b[0m new_car\u001b[38;5;241m.\u001b[39mfprint()\n",
      "Cell \u001b[1;32mIn[56], line 7\u001b[0m, in \u001b[0;36mCar.fprint\u001b[1;34m(self)\u001b[0m\n\u001b[0;32m      5\u001b[0m \u001b[38;5;28;01mdef\u001b[39;00m \u001b[38;5;21mfprint\u001b[39m(\u001b[38;5;28mself\u001b[39m):\n\u001b[0;32m      6\u001b[0m     \u001b[38;5;28mprint\u001b[39m(\u001b[38;5;124m'\u001b[39m\u001b[38;5;124m차량 번호 :\u001b[39m\u001b[38;5;124m'\u001b[39m, \u001b[38;5;28mself\u001b[39m\u001b[38;5;241m.\u001b[39mnum)\n\u001b[1;32m----> 7\u001b[0m     \u001b[38;5;28mprint\u001b[39m(\u001b[38;5;124m'\u001b[39m\u001b[38;5;124m 속 도 는 :\u001b[39m\u001b[38;5;124m'\u001b[39m, \u001b[38;5;28mself\u001b[39m\u001b[38;5;241m.\u001b[39mspeed)\n",
      "\u001b[1;31mAttributeError\u001b[0m: 'Car' object has no attribute 'speed'"
     ]
    }
   ],
   "source": [
    "new_car = Car(2025, 90)\n",
    "new_car.fprint()"
   ]
  },
  {
   "cell_type": "code",
   "execution_count": 61,
   "id": "f5973b0f-5b74-4114-bc0f-3e063b8f6582",
   "metadata": {},
   "outputs": [
    {
     "name": "stdout",
     "output_type": "stream",
     "text": [
      "객체 obj 내의 인스턴스 변수 x의 값은  10\n",
      "객체 obj 내의 인스턴스 변수 x의 값은  20\n",
      "객체 obj 내의 인스턴스 변수 x의 값은  30\n"
     ]
    }
   ],
   "source": [
    "class Cadd:\n",
    "    def fadd(self, a, b):\n",
    "        self.x = a\n",
    "        self.y = b\n",
    "        self.hap = self.x + self.y\n",
    "\n",
    "obj = Cadd()\n",
    "obj.fadd(10, 20)\n",
    "\n",
    "print('객체 obj 내의 인스턴스 변수 x의 값은 ', obj.x)\n",
    "print('객체 obj 내의 인스턴스 변수 x의 값은 ', obj.y)\n",
    "print('객체 obj 내의 인스턴스 변수 x의 값은 ', obj.hap)"
   ]
  },
  {
   "cell_type": "code",
   "execution_count": 67,
   "id": "893a6c49-d55b-4845-8e67-c64415aa7e80",
   "metadata": {},
   "outputs": [
    {
     "name": "stdout",
     "output_type": "stream",
     "text": [
      "ohap의 값은? 30\n"
     ]
    }
   ],
   "source": [
    "class Cadd:\n",
    "    def fadd(self, a, b):\n",
    "        x = a\n",
    "        y = b\n",
    "        hap = x + y\n",
    "        return hap\n",
    "\n",
    "obj = Cadd()\n",
    "ohap = obj.fadd(10, 20)\n",
    "\n",
    "print('ohap의 값은?', ohap)"
   ]
  },
  {
   "cell_type": "code",
   "execution_count": 68,
   "id": "d6ab8a06-d0c9-467b-af20-715933977825",
   "metadata": {},
   "outputs": [
    {
     "ename": "TypeError",
     "evalue": "__init__() should return None, not 'int'",
     "output_type": "error",
     "traceback": [
      "\u001b[1;31m---------------------------------------------------------------------------\u001b[0m",
      "\u001b[1;31mTypeError\u001b[0m                                 Traceback (most recent call last)",
      "Cell \u001b[1;32mIn[68], line 8\u001b[0m\n\u001b[0;32m      5\u001b[0m         \u001b[38;5;28mself\u001b[39m\u001b[38;5;241m.\u001b[39mhap \u001b[38;5;241m=\u001b[39m \u001b[38;5;28mself\u001b[39m\u001b[38;5;241m.\u001b[39mx \u001b[38;5;241m+\u001b[39m \u001b[38;5;28mself\u001b[39m\u001b[38;5;241m.\u001b[39my\n\u001b[0;32m      6\u001b[0m         \u001b[38;5;28;01mreturn\u001b[39;00m \u001b[38;5;28mself\u001b[39m\u001b[38;5;241m.\u001b[39mhap\n\u001b[1;32m----> 8\u001b[0m ohap \u001b[38;5;241m=\u001b[39m Cadd(\u001b[38;5;241m10\u001b[39m, \u001b[38;5;241m20\u001b[39m)\n\u001b[0;32m      9\u001b[0m \u001b[38;5;28mprint\u001b[39m(\u001b[38;5;124m'\u001b[39m\u001b[38;5;124mohap의 값은?\u001b[39m\u001b[38;5;124m'\u001b[39m, ohap)\n",
      "\u001b[1;31mTypeError\u001b[0m: __init__() should return None, not 'int'"
     ]
    }
   ],
   "source": [
    "class Cadd:\n",
    "    def __init__(self, a=1, b=1):\n",
    "        self.x = a\n",
    "        self.y = b\n",
    "        self.hap = self.x + self.y\n",
    "        return self.hap      # __init__ Return 을 사용할 수 없음.\n",
    "\n",
    "ohap = Cadd(10, 20)\n",
    "print('ohap의 값은?', ohap)"
   ]
  },
  {
   "cell_type": "code",
   "execution_count": 78,
   "id": "af3ebec4-1a9c-437f-92a8-91e014cec26d",
   "metadata": {},
   "outputs": [
    {
     "ename": "IndentationError",
     "evalue": "expected an indented block after function definition on line 2 (1030104794.py, line 3)",
     "output_type": "error",
     "traceback": [
      "\u001b[1;36m  Cell \u001b[1;32mIn[78], line 3\u001b[1;36m\u001b[0m\n\u001b[1;33m    def fsub(self, a, b):\u001b[0m\n\u001b[1;37m    ^\u001b[0m\n\u001b[1;31mIndentationError\u001b[0m\u001b[1;31m:\u001b[0m expected an indented block after function definition on line 2\n"
     ]
    }
   ],
   "source": [
    "class Ccalc:\n",
    "    def fadd(self, a, b):\n",
    "    def fsub(self, a, b):\n",
    "    def fmul(self, a, b):\n",
    "    def fdiv(self, a, b):"
   ]
  },
  {
   "cell_type": "code",
   "execution_count": 76,
   "id": "e46fd911-f616-4016-9f73-d3f79bc66e18",
   "metadata": {},
   "outputs": [
    {
     "ename": "NameError",
     "evalue": "name 'Ccalc' is not defined",
     "output_type": "error",
     "traceback": [
      "\u001b[1;31m---------------------------------------------------------------------------\u001b[0m",
      "\u001b[1;31mNameError\u001b[0m                                 Traceback (most recent call last)",
      "Cell \u001b[1;32mIn[76], line 1\u001b[0m\n\u001b[1;32m----> 1\u001b[0m cal1 \u001b[38;5;241m=\u001b[39m Ccalc()\n\u001b[0;32m      2\u001b[0m \u001b[38;5;28mprint\u001b[39m(cal1\u001b[38;5;241m.\u001b[39mfadd(\u001b[38;5;241m10\u001b[39m,\u001b[38;5;241m20\u001b[39m))\n\u001b[0;32m      3\u001b[0m \u001b[38;5;28mprint\u001b[39m(cal1\u001b[38;5;241m.\u001b[39mfsub(\u001b[38;5;241m10\u001b[39m,\u001b[38;5;241m20\u001b[39m))\n",
      "\u001b[1;31mNameError\u001b[0m: name 'Ccalc' is not defined"
     ]
    }
   ],
   "source": [
    "cal1 = Ccalc()\n",
    "print(cal1.fadd(10,20))\n",
    "print(cal1.fsub(10,20))\n",
    "print(cal1.fmul(10,20))\n",
    "print(cal1.fdiv(10,20))"
   ]
  },
  {
   "cell_type": "code",
   "execution_count": 79,
   "id": "38fdeda7-b576-422e-9dbf-b573ab5f0815",
   "metadata": {},
   "outputs": [
    {
     "ename": "SyntaxError",
     "evalue": "invalid syntax (989416231.py, line 2)",
     "output_type": "error",
     "traceback": [
      "\u001b[1;36m  Cell \u001b[1;32mIn[79], line 2\u001b[1;36m\u001b[0m\n\u001b[1;33m    print(cal1.fadd(10,20)):\u001b[0m\n\u001b[1;37m                           ^\u001b[0m\n\u001b[1;31mSyntaxError\u001b[0m\u001b[1;31m:\u001b[0m invalid syntax\n"
     ]
    }
   ],
   "source": [
    "class Ccalc:\n",
    "    def"
   ]
  },
  {
   "cell_type": "code",
   "execution_count": null,
   "id": "f2ef6248-a4ed-49ab-8671-3f6c3859c2c9",
   "metadata": {},
   "outputs": [],
   "source": [
    "from fcal import Fcalc, Fcala  # fcal.py 존재하는  클래스 Fcalc, Fcala를 불러온다"
   ]
  },
  {
   "cell_type": "code",
   "execution_count": 85,
   "id": "0192495f-c81c-43ff-80d3-e1516f0066e2",
   "metadata": {},
   "outputs": [
    {
     "ename": "NameError",
     "evalue": "name 'Fcalc' is not defined",
     "output_type": "error",
     "traceback": [
      "\u001b[1;31m---------------------------------------------------------------------------\u001b[0m",
      "\u001b[1;31mNameError\u001b[0m                                 Traceback (most recent call last)",
      "Cell \u001b[1;32mIn[85], line 1\u001b[0m\n\u001b[1;32m----> 1\u001b[0m cal1 \u001b[38;5;241m=\u001b[39m Fcalc()\n",
      "\u001b[1;31mNameError\u001b[0m: name 'Fcalc' is not defined"
     ]
    }
   ],
   "source": [
    "cal1 = Fcalc()"
   ]
  },
  {
   "cell_type": "code",
   "execution_count": 86,
   "id": "bbb16bdb-a15f-42dc-9299-be6cc7a6d0c2",
   "metadata": {},
   "outputs": [
    {
     "ename": "AttributeError",
     "evalue": "'Calcurator' object has no attribute 'fadd'",
     "output_type": "error",
     "traceback": [
      "\u001b[1;31m---------------------------------------------------------------------------\u001b[0m",
      "\u001b[1;31mAttributeError\u001b[0m                            Traceback (most recent call last)",
      "Cell \u001b[1;32mIn[86], line 1\u001b[0m\n\u001b[1;32m----> 1\u001b[0m \u001b[38;5;28mprint\u001b[39m(cal1\u001b[38;5;241m.\u001b[39mfadd(\u001b[38;5;241m10\u001b[39m,\u001b[38;5;241m20\u001b[39m))\n\u001b[0;32m      2\u001b[0m \u001b[38;5;28mprint\u001b[39m(cal1\u001b[38;5;241m.\u001b[39mfsub(\u001b[38;5;241m10\u001b[39m,\u001b[38;5;241m20\u001b[39m))\n\u001b[0;32m      3\u001b[0m \u001b[38;5;28mprint\u001b[39m(cal1\u001b[38;5;241m.\u001b[39mfmul(\u001b[38;5;241m10\u001b[39m,\u001b[38;5;241m20\u001b[39m))\n",
      "\u001b[1;31mAttributeError\u001b[0m: 'Calcurator' object has no attribute 'fadd'"
     ]
    }
   ],
   "source": [
    "print(cal1.fadd(10,20))\n",
    "print(cal1.fsub(10,20))\n",
    "print(cal1.fmul(10,20))\n",
    "print(cal1.fdiv(10,20))"
   ]
  },
  {
   "cell_type": "code",
   "execution_count": 87,
   "id": "d26a7f34-eef4-4a0b-9762-f870016ee49f",
   "metadata": {},
   "outputs": [
    {
     "ename": "NameError",
     "evalue": "name 'Fcala' is not defined",
     "output_type": "error",
     "traceback": [
      "\u001b[1;31m---------------------------------------------------------------------------\u001b[0m",
      "\u001b[1;31mNameError\u001b[0m                                 Traceback (most recent call last)",
      "Cell \u001b[1;32mIn[87], line 1\u001b[0m\n\u001b[1;32m----> 1\u001b[0m cal1 \u001b[38;5;241m=\u001b[39m Fcala()\n",
      "\u001b[1;31mNameError\u001b[0m: name 'Fcala' is not defined"
     ]
    }
   ],
   "source": [
    "cal1 = Fcala()"
   ]
  },
  {
   "cell_type": "code",
   "execution_count": null,
   "id": "2baacf8b-5357-49b7-b317-51697b2a93d8",
   "metadata": {},
   "outputs": [],
   "source": []
  },
  {
   "cell_type": "code",
   "execution_count": null,
   "id": "58b6d195-726e-4eef-86a8-af67533269ff",
   "metadata": {},
   "outputs": [],
   "source": []
  }
 ],
 "metadata": {
  "kernelspec": {
   "display_name": "Python 3 (ipykernel)",
   "language": "python",
   "name": "python3"
  },
  "language_info": {
   "codemirror_mode": {
    "name": "ipython",
    "version": 3
   },
   "file_extension": ".py",
   "mimetype": "text/x-python",
   "name": "python",
   "nbconvert_exporter": "python",
   "pygments_lexer": "ipython3",
   "version": "3.12.8"
  }
 },
 "nbformat": 4,
 "nbformat_minor": 5
}
